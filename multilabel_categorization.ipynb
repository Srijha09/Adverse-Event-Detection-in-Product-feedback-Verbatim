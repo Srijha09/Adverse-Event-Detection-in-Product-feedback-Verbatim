{
  "nbformat": 4,
  "nbformat_minor": 0,
  "metadata": {
    "colab": {
      "name": "multilabel_categorization.ipynb",
      "version": "0.3.2",
      "provenance": [],
      "collapsed_sections": []
    },
    "kernelspec": {
      "name": "python3",
      "display_name": "Python 3"
    }
  },
  "cells": [
    {
      "cell_type": "code",
      "metadata": {
        "id": "Zij8hmVE517y",
        "colab_type": "code",
        "colab": {}
      },
      "source": [
        "import pandas as pd\n",
        "import numpy as np\n",
        "import pickle\n",
        "from keras.preprocessing.text import Tokenizer\n",
        "from keras.models import Sequential\n",
        "from keras.layers import Activation, Dense, Dropout\n",
        "from sklearn.preprocessing import LabelBinarizer\n",
        "import sklearn.datasets as skds\n",
        "from pathlib import Path\n",
        "from keras.layers import Dense, Flatten, LSTM, Conv1D, MaxPooling1D, Dropout, Activation\n",
        "from keras.layers.embeddings import Embedding\n",
        "import re\n",
        "import string\n",
        "import numpy as np\n",
        "import pandas as pd\n",
        "from sklearn.manifold import TSNE\n"
      ],
      "execution_count": 0,
      "outputs": []
    },
    {
      "cell_type": "code",
      "metadata": {
        "id": "_puGvkIBYW3k",
        "colab_type": "code",
        "outputId": "85d937f6-e72c-4725-cb2b-75de7687b2ce",
        "colab": {
          "base_uri": "https://localhost:8080/",
          "height": 122
        }
      },
      "source": [
        "from google.colab import drive\n",
        "drive.mount('/content/drive')"
      ],
      "execution_count": 2,
      "outputs": [
        {
          "output_type": "stream",
          "text": [
            "Go to this URL in a browser: https://accounts.google.com/o/oauth2/auth?client_id=947318989803-6bn6qk8qdgf4n4g3pfee6491hc0brc4i.apps.googleusercontent.com&redirect_uri=urn%3Aietf%3Awg%3Aoauth%3A2.0%3Aoob&scope=email%20https%3A%2F%2Fwww.googleapis.com%2Fauth%2Fdocs.test%20https%3A%2F%2Fwww.googleapis.com%2Fauth%2Fdrive%20https%3A%2F%2Fwww.googleapis.com%2Fauth%2Fdrive.photos.readonly%20https%3A%2F%2Fwww.googleapis.com%2Fauth%2Fpeopleapi.readonly&response_type=code\n",
            "\n",
            "Enter your authorization code:\n",
            "··········\n",
            "Mounted at /content/drive\n"
          ],
          "name": "stdout"
        }
      ]
    },
    {
      "cell_type": "code",
      "metadata": {
        "id": "iGacOeMlAaZS",
        "colab_type": "code",
        "outputId": "f5b16cb6-813a-4d32-d356-265c012439a0",
        "colab": {
          "base_uri": "https://localhost:8080/",
          "height": 204
        }
      },
      "source": [
        "\n",
        "train_data = pd.read_csv(r'/content/drive/My Drive/train_data_v3.csv')\n",
        "df_train = pd.DataFrame(train_data,columns=['Reported Verbatim','Lowest Level Term (LLT)'])\n",
        "df_train.head()"
      ],
      "execution_count": 29,
      "outputs": [
        {
          "output_type": "execute_result",
          "data": {
            "text/html": [
              "<div>\n",
              "<style scoped>\n",
              "    .dataframe tbody tr th:only-of-type {\n",
              "        vertical-align: middle;\n",
              "    }\n",
              "\n",
              "    .dataframe tbody tr th {\n",
              "        vertical-align: top;\n",
              "    }\n",
              "\n",
              "    .dataframe thead th {\n",
              "        text-align: right;\n",
              "    }\n",
              "</style>\n",
              "<table border=\"1\" class=\"dataframe\">\n",
              "  <thead>\n",
              "    <tr style=\"text-align: right;\">\n",
              "      <th></th>\n",
              "      <th>Reported Verbatim</th>\n",
              "      <th>Lowest Level Term (LLT)</th>\n",
              "    </tr>\n",
              "  </thead>\n",
              "  <tbody>\n",
              "    <tr>\n",
              "      <th>0</th>\n",
              "      <td>Event Verbatim: dries me out like no other pro...</td>\n",
              "      <td>Application site reaction</td>\n",
              "    </tr>\n",
              "    <tr>\n",
              "      <th>1</th>\n",
              "      <td>Event Verbatim: Fabric part of bandage cause r...</td>\n",
              "      <td>Application site rash</td>\n",
              "    </tr>\n",
              "    <tr>\n",
              "      <th>2</th>\n",
              "      <td>Event Verbatim: I have a complaint to make, ab...</td>\n",
              "      <td>Application site excoriation</td>\n",
              "    </tr>\n",
              "    <tr>\n",
              "      <th>3</th>\n",
              "      <td>Event Verbatim: I used a Tough Strip on my bru...</td>\n",
              "      <td>Intentional device misuse</td>\n",
              "    </tr>\n",
              "    <tr>\n",
              "      <th>4</th>\n",
              "      <td>Event Verbatim: I began using 3 of the Absolut...</td>\n",
              "      <td>Application site redness</td>\n",
              "    </tr>\n",
              "  </tbody>\n",
              "</table>\n",
              "</div>"
            ],
            "text/plain": [
              "                                   Reported Verbatim  \\\n",
              "0  Event Verbatim: dries me out like no other pro...   \n",
              "1  Event Verbatim: Fabric part of bandage cause r...   \n",
              "2  Event Verbatim: I have a complaint to make, ab...   \n",
              "3  Event Verbatim: I used a Tough Strip on my bru...   \n",
              "4  Event Verbatim: I began using 3 of the Absolut...   \n",
              "\n",
              "        Lowest Level Term (LLT)  \n",
              "0     Application site reaction  \n",
              "1         Application site rash  \n",
              "2  Application site excoriation  \n",
              "3     Intentional device misuse  \n",
              "4      Application site redness  "
            ]
          },
          "metadata": {
            "tags": []
          },
          "execution_count": 29
        }
      ]
    },
    {
      "cell_type": "code",
      "metadata": {
        "id": "u56PbHIHyR08",
        "colab_type": "code",
        "outputId": "c0a95334-4c55-4e0e-e0de-fd528623f03e",
        "colab": {
          "base_uri": "https://localhost:8080/",
          "height": 136
        }
      },
      "source": [
        "df_train.info()"
      ],
      "execution_count": 30,
      "outputs": [
        {
          "output_type": "stream",
          "text": [
            "<class 'pandas.core.frame.DataFrame'>\n",
            "RangeIndex: 24126 entries, 0 to 24125\n",
            "Data columns (total 2 columns):\n",
            "Reported Verbatim          24126 non-null object\n",
            "Lowest Level Term (LLT)    24126 non-null object\n",
            "dtypes: object(2)\n",
            "memory usage: 377.0+ KB\n"
          ],
          "name": "stdout"
        }
      ]
    },
    {
      "cell_type": "code",
      "metadata": {
        "id": "7d_ufk7iYBzC",
        "colab_type": "code",
        "outputId": "b0c7f18f-90a8-42eb-ec00-d23a85689a55",
        "colab": {
          "base_uri": "https://localhost:8080/",
          "height": 204
        }
      },
      "source": [
        "test_data = pd.read_csv('/content/drive/My Drive/test_data_v3.csv')\n",
        "df_test = pd.DataFrame(test_data,columns=['Reported Verbatim','Lowest Level Term (LLT)'])\n",
        "df_test.head()"
      ],
      "execution_count": 31,
      "outputs": [
        {
          "output_type": "execute_result",
          "data": {
            "text/html": [
              "<div>\n",
              "<style scoped>\n",
              "    .dataframe tbody tr th:only-of-type {\n",
              "        vertical-align: middle;\n",
              "    }\n",
              "\n",
              "    .dataframe tbody tr th {\n",
              "        vertical-align: top;\n",
              "    }\n",
              "\n",
              "    .dataframe thead th {\n",
              "        text-align: right;\n",
              "    }\n",
              "</style>\n",
              "<table border=\"1\" class=\"dataframe\">\n",
              "  <thead>\n",
              "    <tr style=\"text-align: right;\">\n",
              "      <th></th>\n",
              "      <th>Reported Verbatim</th>\n",
              "      <th>Lowest Level Term (LLT)</th>\n",
              "    </tr>\n",
              "  </thead>\n",
              "  <tbody>\n",
              "    <tr>\n",
              "      <th>0</th>\n",
              "      <td>Event Verbatim: Health Canada AER 000063104: A...</td>\n",
              "      <td>Abdominal discomfort</td>\n",
              "    </tr>\n",
              "    <tr>\n",
              "      <th>1</th>\n",
              "      <td>Event Verbatim: Have been using this product f...</td>\n",
              "      <td>Abnormal hair growth</td>\n",
              "    </tr>\n",
              "    <tr>\n",
              "      <th>2</th>\n",
              "      <td>Event Verbatim: I purchased the NTG T/SAL MAX ...</td>\n",
              "      <td>Abnormal sensation in eye</td>\n",
              "    </tr>\n",
              "    <tr>\n",
              "      <th>3</th>\n",
              "      <td>Event Verbatim: I used one of your flexible Ba...</td>\n",
              "      <td>Abrasions</td>\n",
              "    </tr>\n",
              "    <tr>\n",
              "      <th>4</th>\n",
              "      <td>Event Verbatim: I used this and did not know t...</td>\n",
              "      <td>Accidental contact of product with eye</td>\n",
              "    </tr>\n",
              "  </tbody>\n",
              "</table>\n",
              "</div>"
            ],
            "text/plain": [
              "                                   Reported Verbatim  \\\n",
              "0  Event Verbatim: Health Canada AER 000063104: A...   \n",
              "1  Event Verbatim: Have been using this product f...   \n",
              "2  Event Verbatim: I purchased the NTG T/SAL MAX ...   \n",
              "3  Event Verbatim: I used one of your flexible Ba...   \n",
              "4  Event Verbatim: I used this and did not know t...   \n",
              "\n",
              "                  Lowest Level Term (LLT)  \n",
              "0                    Abdominal discomfort  \n",
              "1                    Abnormal hair growth  \n",
              "2               Abnormal sensation in eye  \n",
              "3                               Abrasions  \n",
              "4  Accidental contact of product with eye  "
            ]
          },
          "metadata": {
            "tags": []
          },
          "execution_count": 31
        }
      ]
    },
    {
      "cell_type": "code",
      "metadata": {
        "id": "P5Yi03Zgyel2",
        "colab_type": "code",
        "outputId": "a8e69748-3f34-4222-b730-de96e2ecfe4d",
        "colab": {
          "base_uri": "https://localhost:8080/",
          "height": 136
        }
      },
      "source": [
        "df_test.info()"
      ],
      "execution_count": 32,
      "outputs": [
        {
          "output_type": "stream",
          "text": [
            "<class 'pandas.core.frame.DataFrame'>\n",
            "RangeIndex: 10601 entries, 0 to 10600\n",
            "Data columns (total 2 columns):\n",
            "Reported Verbatim          10601 non-null object\n",
            "Lowest Level Term (LLT)    10601 non-null object\n",
            "dtypes: object(2)\n",
            "memory usage: 165.7+ KB\n"
          ],
          "name": "stdout"
        }
      ]
    },
    {
      "cell_type": "code",
      "metadata": {
        "id": "5pAlpk8hyniY",
        "colab_type": "code",
        "outputId": "ed262332-269c-4188-cd50-41bfd19d4dcd",
        "colab": {
          "base_uri": "https://localhost:8080/",
          "height": 1071
        }
      },
      "source": [
        "df_train['Lowest Level Term (LLT)'].value_counts()"
      ],
      "execution_count": 33,
      "outputs": [
        {
          "output_type": "execute_result",
          "data": {
            "text/plain": [
              "Application site reaction                   1725\n",
              "Lack of drug effect                         1620\n",
              "Unexpected therapeutic effect               1562\n",
              "Off label use                               1487\n",
              "Application site rash                       1190\n",
              "Product quality issue                        939\n",
              "Drug effect incomplete                       791\n",
              "Application site redness                     751\n",
              "Application site dryness                     688\n",
              "Application site acne                        580\n",
              "Application site burning                     534\n",
              "Application site itching                     531\n",
              "Application site excoriation                 506\n",
              "Application site swelling                    458\n",
              "Application site papules                     416\n",
              "Device adhesion issue                        415\n",
              "Application site pain                        364\n",
              "Application site discoloration               332\n",
              "Product physical consistency issue           290\n",
              "Application site irritation                  262\n",
              "Wrong technique in product usage process     259\n",
              "Application site exfoliation                 255\n",
              "Product lot number illegible                 230\n",
              "Intentional device misuse                    220\n",
              "Application site urticaria                   219\n",
              "Product container issue                      216\n",
              "Off label use of device                      214\n",
              "Hair texture abnormal                        207\n",
              "Product odor abnormal                        204\n",
              "Application site burn                        190\n",
              "                                            ... \n",
              "Skin bacterial infection                       1\n",
              "Surgery                                        1\n",
              "Woozy                                          1\n",
              "Psoriasis aggravated                           1\n",
              "Gluten intolerance                             1\n",
              "Basal cell carcinoma                           1\n",
              "Chalazion                                      1\n",
              "Strain                                         1\n",
              "Product barcode issue                          1\n",
              "Tongue irritation                              1\n",
              "Suspected counterfeit product                  1\n",
              "Bags under eyes                                1\n",
              "Burning in throat                              1\n",
              "Mucus discharge                                1\n",
              "Vaginal pain                                   1\n",
              "Ovarian carcinoma                              1\n",
              "Skin hypopigmentation                          1\n",
              "Nauseated                                      1\n",
              "Product package associated injury              1\n",
              "Ill feeling                                    1\n",
              "Peritoneal carcinoma                           1\n",
              "Sinus headache                                 1\n",
              "Infection                                      1\n",
              "Bruising of foot                               1\n",
              "Hair growth increased                          1\n",
              "Breast cancer                                  1\n",
              "Tingling tongue                                1\n",
              "Skull fracture                                 1\n",
              "Skin disorder                                  1\n",
              "Pinkeye                                        1\n",
              "Name: Lowest Level Term (LLT), Length: 510, dtype: int64"
            ]
          },
          "metadata": {
            "tags": []
          },
          "execution_count": 33
        }
      ]
    },
    {
      "cell_type": "code",
      "metadata": {
        "id": "K-4Uyq8SyoIi",
        "colab_type": "code",
        "outputId": "5144023a-82f4-44b9-9dfa-6b12ef3a5d85",
        "colab": {
          "base_uri": "https://localhost:8080/",
          "height": 1071
        }
      },
      "source": [
        "df_test['Lowest Level Term (LLT)'].value_counts()"
      ],
      "execution_count": 34,
      "outputs": [
        {
          "output_type": "execute_result",
          "data": {
            "text/plain": [
              "Application site reaction                   740\n",
              "Lack of drug effect                         696\n",
              "Unexpected therapeutic effect               671\n",
              "Off label use                               637\n",
              "Application site rash                       509\n",
              "Product quality issue                       402\n",
              "Drug effect incomplete                      339\n",
              "Application site redness                    323\n",
              "Application site dryness                    296\n",
              "Application site acne                       249\n",
              "Application site burning                    230\n",
              "Application site itching                    229\n",
              "Application site excoriation                217\n",
              "Application site swelling                   197\n",
              "Application site papules                    180\n",
              "Device adhesion issue                       179\n",
              "Application site pain                       156\n",
              "Application site discoloration              143\n",
              "Product physical consistency issue          126\n",
              "Application site irritation                 114\n",
              "Wrong technique in product usage process    112\n",
              "Application site exfoliation                110\n",
              "Product lot number illegible                 99\n",
              "Product container issue                      94\n",
              "Application site urticaria                   94\n",
              "Intentional device misuse                    94\n",
              "Off label use of device                      93\n",
              "Hair texture abnormal                        90\n",
              "Product odor abnormal                        89\n",
              "Application site burn                        82\n",
              "                                           ... \n",
              "Skin hypopigmentation                         1\n",
              "Urinary tract infection                       1\n",
              "Nasal stuffiness                              1\n",
              "Hypersensitivity                              1\n",
              "Sleep difficult                               1\n",
              "Ill feeling                                   1\n",
              "Swelling of eyelid                            1\n",
              "Woozy                                         1\n",
              "Surgery                                       1\n",
              "Sinus headache                                1\n",
              "No adverse drug effect                        1\n",
              "Sores mouth                                   1\n",
              "Bacterial infection                           1\n",
              "Breast cancer                                 1\n",
              "Dark circles under eyes                       1\n",
              "Leukemia                                      1\n",
              "Tingling tongue                               1\n",
              "Yeast infection                               1\n",
              "Eye allergy                                   1\n",
              "Nasal itching                                 1\n",
              "Tongue irritation                             1\n",
              "Prostate cancer                               1\n",
              "Dysgeusia                                     1\n",
              "Pinkeye                                       1\n",
              "Swollen eyelid                                1\n",
              "Blurring of eyes                              1\n",
              "Allergy to chemicals                          1\n",
              "Bruising of foot                              1\n",
              "Endometrial adenocarcinoma                    1\n",
              "Staphylococcal skin infection                 1\n",
              "Name: Lowest Level Term (LLT), Length: 474, dtype: int64"
            ]
          },
          "metadata": {
            "tags": []
          },
          "execution_count": 34
        }
      ]
    },
    {
      "cell_type": "code",
      "metadata": {
        "id": "QLOdCsV98B7U",
        "colab_type": "code",
        "colab": {}
      },
      "source": [
        "#Text Preprocessing\n",
        "\n",
        "def print_plot(index):\n",
        "    example = df_test[df_test.index == index][['Reported Verbatim', 'Lowest Level Term (LLT)']].values[0]\n",
        "    if len(example) > 0:\n",
        "        print(example[0])\n",
        "        print('LLT:', example[1])\n"
      ],
      "execution_count": 0,
      "outputs": []
    },
    {
      "cell_type": "code",
      "metadata": {
        "id": "BsqoZ75P8ncp",
        "colab_type": "code",
        "outputId": "1102961d-e8da-4b31-d5bd-8fe535881ab4",
        "colab": {
          "base_uri": "https://localhost:8080/",
          "height": 71
        }
      },
      "source": [
        "print_plot(10)"
      ],
      "execution_count": 36,
      "outputs": [
        {
          "output_type": "stream",
          "text": [
            "Event Verbatim: My one year old grand daughter had some of this sunscreen in her mouth.   Verbatim: My one year old grand daughter had some of this sunscreen in her mouth.\n",
            "LLT: Accidental drug intake by child\n"
          ],
          "name": "stdout"
        }
      ]
    },
    {
      "cell_type": "code",
      "metadata": {
        "id": "mcGiQSET85pD",
        "colab_type": "code",
        "outputId": "4ce2e285-63e1-4757-e140-f64dfc706dab",
        "colab": {
          "base_uri": "https://localhost:8080/",
          "height": 71
        }
      },
      "source": [
        "print_plot(20)"
      ],
      "execution_count": 37,
      "outputs": [
        {
          "output_type": "stream",
          "text": [
            "Event Verbatim: I was just talking to someone who gave me a reference number. He didn't get my last name. I called because my son had gotten some baby powder on his tongue. I was told to call Poison Control and then call you back.  Summary: On October 12, 2017, a mother called to report her 2 year old, 36lb, Caucasian son (the patient) had gotten a hold of some Johnson's Baby Powder and accidentally shook some onto his tongue. Mother states that she contacted Poison Control and was assured patient would be alright, at which time mother called to report to us. Mother states that she was traveling in the car with the patient, when the patient grabbed the Baby Powder from the carrying bag and sprinkled about a dime sized amount onto his tongue. Mother indicates that she will continue to use Baby Powder on patient. Mother reports that patient is fine and shows no signs of illness.   Verbatim: I was just talking to someone who gave me a reference number. He didn't get my last name. I called because my son had gotten some baby powder on his tongue. I was told to call Poison Control and then call you back.\n",
            "LLT: Accidental exposure to product by child\n"
          ],
          "name": "stdout"
        }
      ]
    },
    {
      "cell_type": "code",
      "metadata": {
        "id": "McoY6L2f9FvY",
        "colab_type": "code",
        "outputId": "0c1bd4f5-37fc-4090-aa11-aa1605a1d469",
        "colab": {
          "base_uri": "https://localhost:8080/",
          "height": 51
        }
      },
      "source": [
        "import nltk\n",
        "nltk.download('stopwords')\n",
        "from nltk import word_tokenize\n",
        "from nltk.corpus import stopwords\n",
        "\n",
        "\n",
        "df_train = df_train.reset_index(drop=True)\n",
        "REPLACE_BY_SPACE_RE = re.compile('[/(){}\\[\\]\\|@,;]')\n",
        "BAD_SYMBOLS_RE = re.compile('[^0-9a-z #+_]')\n",
        "STOPWORDS = set(stopwords.words('english'))\n",
        "\n",
        "def clean_text(text):\n",
        "    \"\"\"\n",
        "        text: a string\n",
        "        \n",
        "        return: modified initial string\n",
        "    \"\"\"\n",
        "    text = text.lower() # lowercase text\n",
        "    text = REPLACE_BY_SPACE_RE.sub(' ', text) # replace REPLACE_BY_SPACE_RE symbols by space in text. substitute the matched string in REPLACE_BY_SPACE_RE with space.\n",
        "    text = BAD_SYMBOLS_RE.sub('', text) # remove symbols which are in BAD_SYMBOLS_RE from text. substitute the matched string in BAD_SYMBOLS_RE with nothing. \n",
        "    text = text.replace('Verbatim:', '')\n",
        "#    text = re.sub(r'\\W+', '', text)\n",
        "    text = ' '.join(word for word in text.split() if word not in STOPWORDS) # remove stopwors from text\n",
        "    return text\n",
        "df_train['Reported Verbatim'] = df_train['Reported Verbatim'].apply(clean_text)"
      ],
      "execution_count": 38,
      "outputs": [
        {
          "output_type": "stream",
          "text": [
            "[nltk_data] Downloading package stopwords to /root/nltk_data...\n",
            "[nltk_data]   Package stopwords is already up-to-date!\n"
          ],
          "name": "stdout"
        }
      ]
    },
    {
      "cell_type": "code",
      "metadata": {
        "id": "ZpLlCj4d-PPa",
        "colab_type": "code",
        "colab": {}
      },
      "source": [
        "df_train['Reported Verbatim'] = df_train['Reported Verbatim'].str.replace('\\d+', '')"
      ],
      "execution_count": 0,
      "outputs": []
    },
    {
      "cell_type": "code",
      "metadata": {
        "id": "URSU9IuvYqbK",
        "colab_type": "code",
        "colab": {}
      },
      "source": [
        "#Tokenizing the Reported Verbatim of test and train dataframes\n",
        "from keras.preprocessing.text import Tokenizer\n",
        "from keras.preprocessing.sequence import pad_sequences\n",
        "\n",
        "tokenizer = Tokenizer(num_words=10000, lower=True)\n",
        "tokenizer.fit_on_texts(df_train['Reported Verbatim'])\n",
        "sequences1 = tokenizer.texts_to_sequences(df_train['Reported Verbatim'])\n",
        "x_train = pad_sequences(sequences1, maxlen=180)\n",
        "\n",
        "\n",
        "tokenizer = Tokenizer(num_words=10000, lower = True)\n",
        "tokenizer.fit_on_texts(df_test['Reported Verbatim'])\n",
        "sequences2 = tokenizer.texts_to_sequences(df_test['Reported Verbatim'])\n",
        "x_test = pad_sequences(sequences2, maxlen=180)\n",
        "\n"
      ],
      "execution_count": 0,
      "outputs": []
    },
    {
      "cell_type": "code",
      "metadata": {
        "id": "vC5KGhL0ZdBF",
        "colab_type": "code",
        "outputId": "8f2f4f9d-0e39-4709-d43d-143131b64367",
        "colab": {
          "base_uri": "https://localhost:8080/",
          "height": 51
        }
      },
      "source": [
        "from sklearn.preprocessing import MultiLabelBinarizer\n",
        "\n",
        "multilabel_binarizer = MultiLabelBinarizer()\n",
        "multilabel_binarizer.fit(df_train['Lowest Level Term (LLT)'])\n",
        "y_train = multilabel_binarizer.transform(df_train['Lowest Level Term (LLT)'])\n",
        "print(len(y_train))\n",
        "\n",
        "multilabel_binarizer = MultiLabelBinarizer()\n",
        "multilabel_binarizer.fit(df_test['Lowest Level Term (LLT)'])\n",
        "y_test = multilabel_binarizer.transform(df_test['Lowest Level Term (LLT)'])\n",
        "print(len(y_test))"
      ],
      "execution_count": 41,
      "outputs": [
        {
          "output_type": "stream",
          "text": [
            "24126\n",
            "10601\n"
          ],
          "name": "stdout"
        }
      ]
    },
    {
      "cell_type": "code",
      "metadata": {
        "id": "ubMpY8NOeTpk",
        "colab_type": "code",
        "outputId": "f78049ff-a2c3-47f4-95da-61a957501979",
        "colab": {
          "base_uri": "https://localhost:8080/",
          "height": 238
        }
      },
      "source": [
        "from keras.layers import Activation, Dense, Dropout\n",
        "from sklearn.preprocessing import LabelBinarizer\n",
        "import sklearn.datasets as skds\n",
        "from pathlib import Path\n",
        "from keras.layers import Dense, Flatten, LSTM, Conv1D, MaxPooling1D, Dropout, Activation\n",
        "from keras.layers.embeddings import Embedding\n",
        "\n",
        "model_lstm = Sequential()\n",
        "model_lstm.add(Embedding(10000, 180, input_length=180))\n",
        "model_lstm.add(LSTM(100, dropout=0.2, recurrent_dropout=0.2))\n",
        "model_lstm.add(Dense(51, activation='sigmoid'))\n",
        "model_lstm.compile(loss='binary_crossentropy', optimizer='adam', metrics=['accuracy'])\n",
        "model_lstm.summary()"
      ],
      "execution_count": 42,
      "outputs": [
        {
          "output_type": "stream",
          "text": [
            "_________________________________________________________________\n",
            "Layer (type)                 Output Shape              Param #   \n",
            "=================================================================\n",
            "embedding_3 (Embedding)      (None, 180, 180)          1800000   \n",
            "_________________________________________________________________\n",
            "lstm_3 (LSTM)                (None, 100)               112400    \n",
            "_________________________________________________________________\n",
            "dense_3 (Dense)              (None, 51)                5151      \n",
            "=================================================================\n",
            "Total params: 1,917,551\n",
            "Trainable params: 1,917,551\n",
            "Non-trainable params: 0\n",
            "_________________________________________________________________\n"
          ],
          "name": "stdout"
        }
      ]
    },
    {
      "cell_type": "code",
      "metadata": {
        "id": "3lwplH4QA2m0",
        "colab_type": "code",
        "outputId": "a60ec782-5112-451d-db1a-6a3650c27d4f",
        "colab": {
          "base_uri": "https://localhost:8080/",
          "height": 187
        }
      },
      "source": [
        "model_lstm.fit(x_train,y_train, validation_split=0.4, epochs=4)"
      ],
      "execution_count": 43,
      "outputs": [
        {
          "output_type": "stream",
          "text": [
            "Train on 14475 samples, validate on 9651 samples\n",
            "Epoch 1/4\n",
            "14475/14475 [==============================] - 202s 14ms/step - loss: 0.2859 - acc: 0.8836 - val_loss: 0.2686 - val_acc: 0.8872\n",
            "Epoch 2/4\n",
            "14475/14475 [==============================] - 201s 14ms/step - loss: 0.2610 - acc: 0.8921 - val_loss: 0.2509 - val_acc: 0.8970\n",
            "Epoch 3/4\n",
            "14475/14475 [==============================] - 201s 14ms/step - loss: 0.2433 - acc: 0.9005 - val_loss: 0.2465 - val_acc: 0.8989\n",
            "Epoch 4/4\n",
            "14475/14475 [==============================] - 201s 14ms/step - loss: 0.2336 - acc: 0.9046 - val_loss: 0.2457 - val_acc: 0.9000\n"
          ],
          "name": "stdout"
        },
        {
          "output_type": "execute_result",
          "data": {
            "text/plain": [
              "<keras.callbacks.History at 0x7f3f62748e48>"
            ]
          },
          "metadata": {
            "tags": []
          },
          "execution_count": 43
        }
      ]
    },
    {
      "cell_type": "code",
      "metadata": {
        "id": "-7vtirGwj-Cy",
        "colab_type": "code",
        "outputId": "1486699e-a3b1-48c2-e5d6-5e3fb6218fe2",
        "colab": {
          "base_uri": "https://localhost:8080/",
          "height": 68
        }
      },
      "source": [
        "score = model_lstm.evaluate(x_test, y_test,\n",
        "                       batch_size=1000, verbose=1)\n",
        " \n",
        "print('Test accuracy:', score[1])\n",
        "print('Accuracy:',score[1]*100)\n",
        " \n",
        "text_labels = multilabel_binarizer.classes_\n"
      ],
      "execution_count": 45,
      "outputs": [
        {
          "output_type": "stream",
          "text": [
            "10601/10601 [==============================] - 19s 2ms/step\n",
            "Test accuracy: 0.8857957305756169\n",
            "Accuracy: 88.57957305756169\n"
          ],
          "name": "stdout"
        }
      ]
    },
    {
      "cell_type": "code",
      "metadata": {
        "id": "rlVKnjsRkOV9",
        "colab_type": "code",
        "outputId": "e018c117-5188-475d-e9d0-8911bdcfbdb3",
        "colab": {
          "base_uri": "https://localhost:8080/",
          "height": 248
        }
      },
      "source": [
        "#Calculating the test accuracy for each LLT\n",
        "categories = list(test_data.columns.values)\n",
        "\n",
        " \n",
        "for category in categories:\n",
        "    print('**Processing {} comments...**'.format(category))\n",
        "    \n",
        "    # Training lstm  model on train data\n",
        "   # model_lstm.fit(x_train,y_train, validation_split=0.4, epochs=3)\n",
        "    score = model_lstm.evaluate(x_test, y_test,batch_size=1000, verbose=1)\n",
        "    \n",
        "    # calculating test accuracy\n",
        "    print('Test accuracy:', score[])\n",
        "    print(\"\\n\")"
      ],
      "execution_count": 49,
      "outputs": [
        {
          "output_type": "stream",
          "text": [
            "**Processing Case Tracking_No comments...**\n",
            "10601/10601 [==============================] - 19s 2ms/step\n"
          ],
          "name": "stdout"
        },
        {
          "output_type": "error",
          "ename": "TypeError",
          "evalue": "ignored",
          "traceback": [
            "\u001b[0;31m---------------------------------------------------------------------------\u001b[0m",
            "\u001b[0;31mTypeError\u001b[0m                                 Traceback (most recent call last)",
            "\u001b[0;32m<ipython-input-49-8cff3cf567c0>\u001b[0m in \u001b[0;36m<module>\u001b[0;34m()\u001b[0m\n\u001b[1;32m     10\u001b[0m \u001b[0;34m\u001b[0m\u001b[0m\n\u001b[1;32m     11\u001b[0m     \u001b[0;31m# calculating test accuracy\u001b[0m\u001b[0;34m\u001b[0m\u001b[0;34m\u001b[0m\u001b[0;34m\u001b[0m\u001b[0m\n\u001b[0;32m---> 12\u001b[0;31m     \u001b[0mprint\u001b[0m\u001b[0;34m(\u001b[0m\u001b[0;34m'Test accuracy:'\u001b[0m\u001b[0;34m,\u001b[0m \u001b[0mscore\u001b[0m\u001b[0;34m[\u001b[0m\u001b[0mcategory\u001b[0m\u001b[0;34m.\u001b[0m\u001b[0mindex\u001b[0m\u001b[0;34m(\u001b[0m\u001b[0;34m)\u001b[0m\u001b[0;34m]\u001b[0m\u001b[0;34m)\u001b[0m\u001b[0;34m\u001b[0m\u001b[0;34m\u001b[0m\u001b[0m\n\u001b[0m\u001b[1;32m     13\u001b[0m     \u001b[0mprint\u001b[0m\u001b[0;34m(\u001b[0m\u001b[0;34m\"\\n\"\u001b[0m\u001b[0;34m)\u001b[0m\u001b[0;34m\u001b[0m\u001b[0;34m\u001b[0m\u001b[0m\n",
            "\u001b[0;31mTypeError\u001b[0m: index() takes at least 1 argument (0 given)"
          ]
        }
      ]
    },
    {
      "cell_type": "code",
      "metadata": {
        "id": "O2KOyD-pDT7l",
        "colab_type": "code",
        "colab": {
          "base_uri": "https://localhost:8080/",
          "height": 238
        },
        "outputId": "4bbdf2d2-9811-40fc-ec13-a6f127d92116"
      },
      "source": [
        "new_complaint = ['Event Verbatim: On 05/25/2017 a female patient reported by email: I used this product twice when I went for a leisurely bike ride. Both times it completely *blocked the pores* on my face where I wound up with *HEAT STROKE*! The first time it happened, I never even thought it could be from your sunscreen, until the same thing happened the next time! It wasnt even too hot either day....70 degrees with hardly any humidity. My face *turned bright red and hot!* I got a *splitting headache* so bad it made me *nauseous!* I had *cramps* in both sides of my abdomen near my hips. I didnt sweat but it was like a had a plastic bag over my head! And my heart was racing! I truly felt like I was going to die!!! It wasnt until I was able to completely wash it off my face that I began feeling like I wasnt being suffocated! I had to cool down with ice packs on my forehead and neck. I was NOT dehydrated...I drank lots of fluids and my urine was a normal color. It was HEAT stroke!!! I think you need to retest this product before someone does die! Honestly! \\\\\\ No further information provided.   Verbatim: Both times it completely blocked the pores on my face where I wound up with HEAT STROKE!...My face turned bright red and hot! I got a splitting headache so bad it made me nauseous! I had cramps in both sides of my abdomen near my hips.(SGN)  Performed 15 Day Follow-Up For: AE Please Call Us/Lot Request â€“ Sent Email']\n",
        "seq = tokenizer.texts_to_sequences(new_complaint)\n",
        "padded = pad_sequences(seq, maxlen=180)\n",
        "pred = model_lstm.predict(padded)\n",
        "labels = list(test_data.columns.values)\n",
        "print(pred, labels[np.argmax(pred)])"
      ],
      "execution_count": 27,
      "outputs": [
        {
          "output_type": "stream",
          "text": [
            "[[9.78498816e-01 2.52366066e-04 1.71631575e-04 7.75754452e-05\n",
            "  4.60849911e-01 4.03013825e-03 5.32960892e-03 9.79430079e-02\n",
            "  1.08859837e-02 1.84115767e-03 2.27689743e-04 9.23237205e-03\n",
            "  1.36463046e-02 3.64980400e-02 7.40706921e-04 2.83235312e-03\n",
            "  2.79667079e-02 7.89471567e-02 2.67925858e-03 1.12852454e-02\n",
            "  3.49017978e-03 1.30518079e-02 5.19666076e-03 2.05186307e-02\n",
            "  1.12742186e-04 9.25609350e-01 1.11171544e-01 9.37593818e-01\n",
            "  5.36524057e-01 9.80954289e-01 2.47384042e-01 2.81259000e-01\n",
            "  1.53690457e-01 9.05859113e-01 7.96794891e-04 7.35816061e-02\n",
            "  7.41346359e-01 1.05748981e-01 8.05602193e-01 8.81126761e-01\n",
            "  6.04735374e-01 5.43763041e-02 7.14447141e-01 7.90029883e-01\n",
            "  9.03847337e-01 5.07569015e-01 9.98073816e-02 1.50029361e-02\n",
            "  9.09642577e-02 1.34849027e-01 3.06235976e-03]] Application site dryness\n"
          ],
          "name": "stdout"
        }
      ]
    },
    {
      "cell_type": "code",
      "metadata": {
        "id": "Alxa10JMXcyE",
        "colab_type": "code",
        "colab": {}
      },
      "source": [
        ""
      ],
      "execution_count": 0,
      "outputs": []
    }
  ]
}